{
 "cells": [
  {
   "cell_type": "markdown",
   "metadata": {},
   "source": [
    "# Определение токсичности комментариев с BERT"
   ]
  },
  {
   "cell_type": "markdown",
   "metadata": {},
   "source": [
    "Интернет-магазину нужен инструмент, который будет искать токсичные комментарии пользователей о товарах и отправлять их на модерацию. В нашем распоряжении набор данных с разметкой о токсичности правок.\n",
    "\n",
    "**Цель исследования** - обучить модель классификации комментариев со значением метрики качества *F1* не меньше 0.75.\n",
    "\n",
    "**Ход работы**\n",
    "1. Загрузка и подготовка данных (предобработка, токенизация).\n",
    "2. Обучение моделей. \n",
    "3. Тестирование моделей.\n",
    "4. Общий вывод.\n",
    "\n",
    "**Описание данных**\n",
    "* text - текст комментария;\n",
    "* toxic — целевой признак, токсичность."
   ]
  },
  {
   "cell_type": "markdown",
   "metadata": {},
   "source": [
    "## Подготовка"
   ]
  },
  {
   "cell_type": "markdown",
   "metadata": {},
   "source": [
    "### Загрузка и обзор данных"
   ]
  },
  {
   "cell_type": "code",
   "execution_count": 1,
   "metadata": {},
   "outputs": [],
   "source": [
    "import pandas as pd\n",
    "import numpy as np\n",
    "from matplotlib import pyplot as plt\n",
    "from sklearn.metrics import f1_score, accuracy_score, precision_score, recall_score\n",
    "from sklearn.model_selection import train_test_split, GridSearchCV, KFold\n",
    "from sklearn.linear_model import LogisticRegression\n",
    "from sklearn.ensemble import RandomForestClassifier\n",
    "from catboost import CatBoostClassifier\n",
    "from lightgbm import LGBMClassifier\n",
    "from sklearn.dummy import DummyClassifier\n",
    "from sklearn.utils import shuffle\n",
    "from torch.nn.utils.rnn import pad_sequence\n",
    "import transformers \n",
    "from tqdm import notebook\n",
    "from tqdm import tqdm\n",
    "import torch\n",
    "import time\n",
    "import re\n",
    "\n",
    "pd.set_option('display.max_columns', None)\n",
    "pd.set_option('display.float_format', '{:.4f}'.format)\n",
    "pd.options.mode.chained_assignment = None\n",
    "rand_state=3208"
   ]
  },
  {
   "cell_type": "code",
   "execution_count": 2,
   "metadata": {},
   "outputs": [],
   "source": [
    "try:\n",
    "    toxic_comments = pd.read_csv('/datasets/toxic_comments.csv', index_col='Unnamed: 0')\n",
    "except:\n",
    "    toxic_comments = pd.read_csv('datasets/toxic_comments.csv', index_col='Unnamed: 0')"
   ]
  },
  {
   "cell_type": "code",
   "execution_count": 3,
   "metadata": {},
   "outputs": [
    {
     "data": {
      "text/html": [
       "<div>\n",
       "<style scoped>\n",
       "    .dataframe tbody tr th:only-of-type {\n",
       "        vertical-align: middle;\n",
       "    }\n",
       "\n",
       "    .dataframe tbody tr th {\n",
       "        vertical-align: top;\n",
       "    }\n",
       "\n",
       "    .dataframe thead th {\n",
       "        text-align: right;\n",
       "    }\n",
       "</style>\n",
       "<table border=\"1\" class=\"dataframe\">\n",
       "  <thead>\n",
       "    <tr style=\"text-align: right;\">\n",
       "      <th></th>\n",
       "      <th>text</th>\n",
       "      <th>toxic</th>\n",
       "    </tr>\n",
       "  </thead>\n",
       "  <tbody>\n",
       "    <tr>\n",
       "      <th>0</th>\n",
       "      <td>Explanation\\nWhy the edits made under my usern...</td>\n",
       "      <td>0</td>\n",
       "    </tr>\n",
       "    <tr>\n",
       "      <th>1</th>\n",
       "      <td>D'aww! He matches this background colour I'm s...</td>\n",
       "      <td>0</td>\n",
       "    </tr>\n",
       "    <tr>\n",
       "      <th>2</th>\n",
       "      <td>Hey man, I'm really not trying to edit war. It...</td>\n",
       "      <td>0</td>\n",
       "    </tr>\n",
       "    <tr>\n",
       "      <th>3</th>\n",
       "      <td>\"\\nMore\\nI can't make any real suggestions on ...</td>\n",
       "      <td>0</td>\n",
       "    </tr>\n",
       "    <tr>\n",
       "      <th>4</th>\n",
       "      <td>You, sir, are my hero. Any chance you remember...</td>\n",
       "      <td>0</td>\n",
       "    </tr>\n",
       "    <tr>\n",
       "      <th>5</th>\n",
       "      <td>\"\\n\\nCongratulations from me as well, use the ...</td>\n",
       "      <td>0</td>\n",
       "    </tr>\n",
       "    <tr>\n",
       "      <th>6</th>\n",
       "      <td>COCKSUCKER BEFORE YOU PISS AROUND ON MY WORK</td>\n",
       "      <td>1</td>\n",
       "    </tr>\n",
       "    <tr>\n",
       "      <th>7</th>\n",
       "      <td>Your vandalism to the Matt Shirvington article...</td>\n",
       "      <td>0</td>\n",
       "    </tr>\n",
       "    <tr>\n",
       "      <th>8</th>\n",
       "      <td>Sorry if the word 'nonsense' was offensive to ...</td>\n",
       "      <td>0</td>\n",
       "    </tr>\n",
       "    <tr>\n",
       "      <th>9</th>\n",
       "      <td>alignment on this subject and which are contra...</td>\n",
       "      <td>0</td>\n",
       "    </tr>\n",
       "  </tbody>\n",
       "</table>\n",
       "</div>"
      ],
      "text/plain": [
       "                                                text  toxic\n",
       "0  Explanation\\nWhy the edits made under my usern...      0\n",
       "1  D'aww! He matches this background colour I'm s...      0\n",
       "2  Hey man, I'm really not trying to edit war. It...      0\n",
       "3  \"\\nMore\\nI can't make any real suggestions on ...      0\n",
       "4  You, sir, are my hero. Any chance you remember...      0\n",
       "5  \"\\n\\nCongratulations from me as well, use the ...      0\n",
       "6       COCKSUCKER BEFORE YOU PISS AROUND ON MY WORK      1\n",
       "7  Your vandalism to the Matt Shirvington article...      0\n",
       "8  Sorry if the word 'nonsense' was offensive to ...      0\n",
       "9  alignment on this subject and which are contra...      0"
      ]
     },
     "metadata": {},
     "output_type": "display_data"
    },
    {
     "data": {
      "text/html": [
       "<div>\n",
       "<style scoped>\n",
       "    .dataframe tbody tr th:only-of-type {\n",
       "        vertical-align: middle;\n",
       "    }\n",
       "\n",
       "    .dataframe tbody tr th {\n",
       "        vertical-align: top;\n",
       "    }\n",
       "\n",
       "    .dataframe thead th {\n",
       "        text-align: right;\n",
       "    }\n",
       "</style>\n",
       "<table border=\"1\" class=\"dataframe\">\n",
       "  <thead>\n",
       "    <tr style=\"text-align: right;\">\n",
       "      <th></th>\n",
       "      <th>text</th>\n",
       "      <th>toxic</th>\n",
       "    </tr>\n",
       "  </thead>\n",
       "  <tbody>\n",
       "    <tr>\n",
       "      <th>count</th>\n",
       "      <td>159292</td>\n",
       "      <td>159292.0000</td>\n",
       "    </tr>\n",
       "    <tr>\n",
       "      <th>unique</th>\n",
       "      <td>159292</td>\n",
       "      <td>NaN</td>\n",
       "    </tr>\n",
       "    <tr>\n",
       "      <th>top</th>\n",
       "      <td>Because I want to say this qoute:\\n\\nSTOP CALL...</td>\n",
       "      <td>NaN</td>\n",
       "    </tr>\n",
       "    <tr>\n",
       "      <th>freq</th>\n",
       "      <td>1</td>\n",
       "      <td>NaN</td>\n",
       "    </tr>\n",
       "    <tr>\n",
       "      <th>mean</th>\n",
       "      <td>NaN</td>\n",
       "      <td>0.1016</td>\n",
       "    </tr>\n",
       "    <tr>\n",
       "      <th>std</th>\n",
       "      <td>NaN</td>\n",
       "      <td>0.3021</td>\n",
       "    </tr>\n",
       "    <tr>\n",
       "      <th>min</th>\n",
       "      <td>NaN</td>\n",
       "      <td>0.0000</td>\n",
       "    </tr>\n",
       "    <tr>\n",
       "      <th>25%</th>\n",
       "      <td>NaN</td>\n",
       "      <td>0.0000</td>\n",
       "    </tr>\n",
       "    <tr>\n",
       "      <th>50%</th>\n",
       "      <td>NaN</td>\n",
       "      <td>0.0000</td>\n",
       "    </tr>\n",
       "    <tr>\n",
       "      <th>75%</th>\n",
       "      <td>NaN</td>\n",
       "      <td>0.0000</td>\n",
       "    </tr>\n",
       "    <tr>\n",
       "      <th>max</th>\n",
       "      <td>NaN</td>\n",
       "      <td>1.0000</td>\n",
       "    </tr>\n",
       "  </tbody>\n",
       "</table>\n",
       "</div>"
      ],
      "text/plain": [
       "                                                     text       toxic\n",
       "count                                              159292 159292.0000\n",
       "unique                                             159292         NaN\n",
       "top     Because I want to say this qoute:\\n\\nSTOP CALL...         NaN\n",
       "freq                                                    1         NaN\n",
       "mean                                                  NaN      0.1016\n",
       "std                                                   NaN      0.3021\n",
       "min                                                   NaN      0.0000\n",
       "25%                                                   NaN      0.0000\n",
       "50%                                                   NaN      0.0000\n",
       "75%                                                   NaN      0.0000\n",
       "max                                                   NaN      1.0000"
      ]
     },
     "metadata": {},
     "output_type": "display_data"
    },
    {
     "name": "stdout",
     "output_type": "stream",
     "text": [
      "<class 'pandas.core.frame.DataFrame'>\n",
      "Int64Index: 159292 entries, 0 to 159450\n",
      "Data columns (total 2 columns):\n",
      " #   Column  Non-Null Count   Dtype \n",
      "---  ------  --------------   ----- \n",
      " 0   text    159292 non-null  object\n",
      " 1   toxic   159292 non-null  int64 \n",
      "dtypes: int64(1), object(1)\n",
      "memory usage: 3.6+ MB\n",
      "\n",
      "Дубликатов: 0\n"
     ]
    }
   ],
   "source": [
    "display(toxic_comments.head(10))\n",
    "display(toxic_comments.describe(include='all'))\n",
    "toxic_comments.info()\n",
    "\n",
    "print('\\nДубликатов:', toxic_comments.duplicated().sum())"
   ]
  },
  {
   "cell_type": "markdown",
   "metadata": {},
   "source": [
    "**Выводы**\n",
    "* Столбец text содержит 159292 уникальных строк с текстами, их необходимо очистить от элементов, не имеющих лингвистического смысла, например \"\\n\";\n",
    "* Столбец toxic имеет тип integer и значения 0 или 1. Судя по среднему (0.1), наблюдается явный дисбаланс классов. От него нужно будет избавиться перед обучением моделей."
   ]
  },
  {
   "cell_type": "markdown",
   "metadata": {},
   "source": [
    "### Предобработка данных"
   ]
  },
  {
   "cell_type": "markdown",
   "metadata": {},
   "source": [
    "Очистим текстовые данные."
   ]
  },
  {
   "cell_type": "code",
   "execution_count": 4,
   "metadata": {},
   "outputs": [],
   "source": [
    "def clear_text(text):\n",
    "    clean = re.sub(r'[^a-zA-Z ]', ' ', text).split()\n",
    "    clean = ' '.join(clean)\n",
    "    return clean"
   ]
  },
  {
   "cell_type": "code",
   "execution_count": 5,
   "metadata": {},
   "outputs": [
    {
     "name": "stderr",
     "output_type": "stream",
     "text": [
      "100%|██████████| 159292/159292 [00:02<00:00, 64191.64it/s]\n"
     ]
    },
    {
     "data": {
      "text/html": [
       "<div>\n",
       "<style scoped>\n",
       "    .dataframe tbody tr th:only-of-type {\n",
       "        vertical-align: middle;\n",
       "    }\n",
       "\n",
       "    .dataframe tbody tr th {\n",
       "        vertical-align: top;\n",
       "    }\n",
       "\n",
       "    .dataframe thead th {\n",
       "        text-align: right;\n",
       "    }\n",
       "</style>\n",
       "<table border=\"1\" class=\"dataframe\">\n",
       "  <thead>\n",
       "    <tr style=\"text-align: right;\">\n",
       "      <th></th>\n",
       "      <th>text</th>\n",
       "      <th>toxic</th>\n",
       "    </tr>\n",
       "  </thead>\n",
       "  <tbody>\n",
       "    <tr>\n",
       "      <th>0</th>\n",
       "      <td>Explanation Why the edits made under my userna...</td>\n",
       "      <td>0</td>\n",
       "    </tr>\n",
       "    <tr>\n",
       "      <th>1</th>\n",
       "      <td>D aww He matches this background colour I m se...</td>\n",
       "      <td>0</td>\n",
       "    </tr>\n",
       "    <tr>\n",
       "      <th>2</th>\n",
       "      <td>Hey man I m really not trying to edit war It s...</td>\n",
       "      <td>0</td>\n",
       "    </tr>\n",
       "    <tr>\n",
       "      <th>3</th>\n",
       "      <td>More I can t make any real suggestions on impr...</td>\n",
       "      <td>0</td>\n",
       "    </tr>\n",
       "    <tr>\n",
       "      <th>4</th>\n",
       "      <td>You sir are my hero Any chance you remember wh...</td>\n",
       "      <td>0</td>\n",
       "    </tr>\n",
       "    <tr>\n",
       "      <th>5</th>\n",
       "      <td>Congratulations from me as well use the tools ...</td>\n",
       "      <td>0</td>\n",
       "    </tr>\n",
       "    <tr>\n",
       "      <th>6</th>\n",
       "      <td>COCKSUCKER BEFORE YOU PISS AROUND ON MY WORK</td>\n",
       "      <td>1</td>\n",
       "    </tr>\n",
       "    <tr>\n",
       "      <th>7</th>\n",
       "      <td>Your vandalism to the Matt Shirvington article...</td>\n",
       "      <td>0</td>\n",
       "    </tr>\n",
       "    <tr>\n",
       "      <th>8</th>\n",
       "      <td>Sorry if the word nonsense was offensive to yo...</td>\n",
       "      <td>0</td>\n",
       "    </tr>\n",
       "    <tr>\n",
       "      <th>9</th>\n",
       "      <td>alignment on this subject and which are contra...</td>\n",
       "      <td>0</td>\n",
       "    </tr>\n",
       "  </tbody>\n",
       "</table>\n",
       "</div>"
      ],
      "text/plain": [
       "                                                text  toxic\n",
       "0  Explanation Why the edits made under my userna...      0\n",
       "1  D aww He matches this background colour I m se...      0\n",
       "2  Hey man I m really not trying to edit war It s...      0\n",
       "3  More I can t make any real suggestions on impr...      0\n",
       "4  You sir are my hero Any chance you remember wh...      0\n",
       "5  Congratulations from me as well use the tools ...      0\n",
       "6       COCKSUCKER BEFORE YOU PISS AROUND ON MY WORK      1\n",
       "7  Your vandalism to the Matt Shirvington article...      0\n",
       "8  Sorry if the word nonsense was offensive to yo...      0\n",
       "9  alignment on this subject and which are contra...      0"
      ]
     },
     "execution_count": 5,
     "metadata": {},
     "output_type": "execute_result"
    }
   ],
   "source": [
    "tqdm.pandas()\n",
    "toxic_comments['text'] = toxic_comments['text'].progress_apply(clear_text)\n",
    "toxic_comments.head(10)"
   ]
  },
  {
   "cell_type": "markdown",
   "metadata": {},
   "source": [
    "Перед тем, как проводить токенизацию, разберемся с дисбалансом классов, чтобы токенизация заняла меньше ресурсов. Изучим соотношение классов."
   ]
  },
  {
   "cell_type": "code",
   "execution_count": 6,
   "metadata": {},
   "outputs": [
    {
     "data": {
      "image/png": "[encoded data removed]",
      "text/plain": [
       "<Figure size 432x288 with 1 Axes>"
      ]
     },
     "metadata": {
      "needs_background": "light"
     },
     "output_type": "display_data"
    },
    {
     "name": "stdout",
     "output_type": "stream",
     "text": [
      "0    143106\n",
      "1     16186\n",
      "Name: toxic, dtype: int64\n"
     ]
    }
   ],
   "source": [
    "toxic_comments['toxic'].value_counts().plot(kind='bar')\n",
    "plt.title('Соотношение классов')\n",
    "plt.xlabel('Значения')\n",
    "plt.ylabel('кол-вл строк')\n",
    "plt.xticks(rotation=0)\n",
    "plt.show()\n",
    "print(toxic_comments['toxic'].value_counts())"
   ]
  },
  {
   "cell_type": "markdown",
   "metadata": {},
   "source": [
    "Наблюдается явный дисбаланс классов. Этот дисбаланс должен быть сохранен в тестовой выборке. Поэтому далее:\n",
    "1. Выделим из датасета часть, чтобы процесс токенизации занял меньше времени. Рассчитаем долю так, чтобы финальный размер обучающей и тестовой выборки был примерно 5000 строк.\n",
    "2. Разделим получившуюся часть на тестовую и обучающую выборки. \n",
    "3. Для обучающей выборки создадим функцию downsample, уменьшим количество нулевых значений так, чтобы оно было соотносимо с единицами.\n",
    "4. Проведем токенизацию в тестовой и обучающей выборках по отдельности.\n",
    "\n",
    "Рассчитаем, какую долю датасета взять, в каком соотношении выделять тестовую выборку с учетом того, что обучающая выборка будет изменена."
   ]
  },
  {
   "cell_type": "code",
   "execution_count": 7,
   "metadata": {},
   "outputs": [
    {
     "name": "stdout",
     "output_type": "stream",
     "text": [
      "Отношение единичных значений целевого признака к нулевым: 0.102\n",
      "Размер тестовой выборки: 1250\n",
      "Размеробучающекй выборки до downsample: 20327\n",
      "Размер выделяемого датасета: 21577\n",
      "Доля выделяемого датасета: 0.135\n",
      "Доля тестовой выборки: 0.058\n"
     ]
    }
   ],
   "source": [
    "partition = 5000\n",
    "\n",
    "ones_per_zeros = toxic_comments['toxic'].value_counts()[1]/len(toxic_comments)\n",
    "test = partition*0.25\n",
    "train = (partition*0.75/2) + (partition*0.75/2/ones_per_zeros)\n",
    "frac = (test+train)/len(toxic_comments)\n",
    "test_split = test/(train+test)\n",
    "\n",
    "print('Отношение единичных значений целевого признака к нулевым:', round(ones_per_zeros, 3))\n",
    "print('Размер тестовой выборки:', int(test))\n",
    "print('Размеробучающекй выборки до downsample:', int(train)) \n",
    "print('Размер выделяемого датасета:', int(test+train))\n",
    "print('Доля выделяемого датасета:', round(frac, 3))\n",
    "print('Доля тестовой выборки:', round(test_split, 3))"
   ]
  },
  {
   "cell_type": "code",
   "execution_count": 8,
   "metadata": {},
   "outputs": [
    {
     "name": "stdout",
     "output_type": "stream",
     "text": [
      "Новая выборка, признаки: (21578,)\n",
      "Новая выборка, целевой признак: (21578,)\n"
     ]
    }
   ],
   "source": [
    "features = toxic_comments['text']\n",
    "target = toxic_comments['toxic']\n",
    "\n",
    "features_dump, features_sliced, target_dump, target_sliced = train_test_split(\n",
    "    features, target, test_size=frac, random_state=rand_state)\n",
    "\n",
    "print('Новая выборка, признаки:', features_sliced.shape)\n",
    "print('Новая выборка, целевой признак:', target_sliced.shape)"
   ]
  },
  {
   "cell_type": "markdown",
   "metadata": {},
   "source": [
    "Теперь разделим получившийся датасет на выборку для обучения и тестовую выборку."
   ]
  },
  {
   "cell_type": "code",
   "execution_count": 9,
   "metadata": {},
   "outputs": [
    {
     "name": "stdout",
     "output_type": "stream",
     "text": [
      "Обучающая выборка, признаки (20327,)\n",
      "Обучающая выборка, целевой признак (20327,)\n",
      "Тестовая выборка, признаки (1251,)\n",
      "Тестовая выборка, целевой признак (1251,)\n"
     ]
    }
   ],
   "source": [
    "features_train, features_test, target_train, target_test = train_test_split(\n",
    "    features_sliced, target_sliced, test_size=test_split, random_state=rand_state)\n",
    "\n",
    "print('Обучающая выборка, признаки', features_train.shape)\n",
    "print('Обучающая выборка, целевой признак', target_train.shape)\n",
    "print('Тестовая выборка, признаки', features_test.shape)\n",
    "print('Тестовая выборка, целевой признак', target_test.shape)"
   ]
  },
  {
   "cell_type": "markdown",
   "metadata": {},
   "source": [
    "Создалим функцию downsample для обучающей выборки."
   ]
  },
  {
   "cell_type": "code",
   "execution_count": 10,
   "metadata": {},
   "outputs": [],
   "source": [
    "def downsample(features, target, fraction):\n",
    "    features_zeros = features[target == 0]\n",
    "    features_ones = features[target == 1]\n",
    "    target_zeros = target[target == 0]\n",
    "    target_ones = target[target == 1]\n",
    "\n",
    "    features_zeros = features_zeros.sample(frac=fraction, random_state=rand_state)\n",
    "    target_zeros = target_zeros.sample(frac=fraction, random_state=rand_state)\n",
    "\n",
    "    features_downsampled = pd.concat([features_zeros] + [features_ones])\n",
    "    target_downsampled = pd.concat([target_zeros] + [target_ones])\n",
    "    \n",
    "    features_downsampled, target_downsampled = shuffle(features_downsampled, \n",
    "            target_downsampled, random_state=rand_state)\n",
    "    \n",
    "    return features_downsampled, target_downsampled"
   ]
  },
  {
   "cell_type": "markdown",
   "metadata": {},
   "source": [
    "Применим функцию downsample к обучающей выборке и проверим её соотношение с тестовой выборкой"
   ]
  },
  {
   "cell_type": "code",
   "execution_count": 11,
   "metadata": {},
   "outputs": [
    {
     "name": "stdout",
     "output_type": "stream",
     "text": [
      "Новая выборка, признаки: (3931,)\n",
      "Новая выборка, целевой признак: (3931,)\n",
      "Тестовая выборка, признаки (1251,)\n",
      "Тестовая выборка, целевой признак (1251,)\n",
      "\n",
      "Доля тестовой выборки 0.24\n"
     ]
    }
   ],
   "source": [
    "features_downsampled, target_downsampled = downsample(features_train, target_train, ones_per_zeros)\n",
    "\n",
    "print('Новая выборка, признаки:', features_downsampled.shape)\n",
    "print('Новая выборка, целевой признак:', target_downsampled.shape)\n",
    "print('Тестовая выборка, признаки', features_test.shape)\n",
    "print('Тестовая выборка, целевой признак', target_test.shape)\n",
    "print()\n",
    "print('Доля тестовой выборки', round(len(features_test)/(len(features_downsampled)+len(features_test)), 2))"
   ]
  },
  {
   "cell_type": "markdown",
   "metadata": {},
   "source": [
    "Проверим теперь соотношение классов."
   ]
  },
  {
   "cell_type": "code",
   "execution_count": 12,
   "metadata": {},
   "outputs": [
    {
     "data": {
      "image/png": "[encoded data removed]",
      "text/plain": [
       "<Figure size 432x288 with 1 Axes>"
      ]
     },
     "metadata": {
      "needs_background": "light"
     },
     "output_type": "display_data"
    },
    {
     "name": "stdout",
     "output_type": "stream",
     "text": [
      "1    2077\n",
      "0    1854\n",
      "Name: toxic, dtype: int64\n"
     ]
    }
   ],
   "source": [
    "target_downsampled.value_counts().plot(kind='bar')\n",
    "plt.title('Соотношение классов')\n",
    "plt.xlabel('Значения')\n",
    "plt.ylabel('кол-вл строк')\n",
    "plt.xticks(rotation=0)\n",
    "plt.show()\n",
    "print(target_downsampled.value_counts())"
   ]
  },
  {
   "cell_type": "markdown",
   "metadata": {},
   "source": [
    "Дисбаланс классов преодолен. Теперь проведем токенизацию с помощью BertTokenizer."
   ]
  },
  {
   "cell_type": "code",
   "execution_count": 13,
   "metadata": {},
   "outputs": [
    {
     "name": "stderr",
     "output_type": "stream",
     "text": [
      "Some weights of the model checkpoint at unitary/toxic-bert were not used when initializing BertModel: ['classifier.bias', 'classifier.weight']\n",
      "- This IS expected if you are initializing BertModel from the checkpoint of a model trained on another task or with another architecture (e.g. initializing a BertForSequenceClassification model from a BertForPreTraining model).\n",
      "- This IS NOT expected if you are initializing BertModel from the checkpoint of a model that you expect to be exactly identical (initializing a BertForSequenceClassification model from a BertForSequenceClassification model).\n"
     ]
    }
   ],
   "source": [
    "tokenizer = transformers.BertTokenizer.from_pretrained('unitary/toxic-bert')\n",
    "model = transformers.BertModel.from_pretrained('unitary/toxic-bert')\n",
    "\n",
    "def get_embeddings(data):\n",
    "    tokenized = data.progress_apply(lambda x: tokenizer.encode(x, add_special_tokens=True,\n",
    "                                                                      max_length=512, truncation=True))\n",
    "    \n",
    "    padded = pad_sequence([torch.as_tensor(i) for i in tokenized], batch_first=True)\n",
    "    attention_mask = padded > 0\n",
    "    attention_mask = attention_mask.type(torch.LongTensor)\n",
    "\n",
    "    batch_size = 100 \n",
    "    embeddings = []\n",
    "\n",
    "    for i in notebook.tqdm(range(padded.shape[0] // batch_size)):\n",
    "        batch = torch.LongTensor(padded[batch_size*i:batch_size*(i+1)])\n",
    "        attention_mask_batch = torch.LongTensor(attention_mask[batch_size*i:batch_size*(i+1)])\n",
    "        with torch.no_grad():\n",
    "            batch_embeddings = model(batch, attention_mask=attention_mask_batch)\n",
    "        embeddings.append(batch_embeddings[0][:,0,:].numpy())\n",
    "\n",
    "    data_emb = np.concatenate(embeddings)\n",
    "    data_emb = pd.DataFrame(data_emb)\n",
    "    return data_emb"
   ]
  },
  {
   "cell_type": "code",
   "execution_count": 14,
   "metadata": {},
   "outputs": [
    {
     "name": "stderr",
     "output_type": "stream",
     "text": [
      "100%|██████████| 3931/3931 [00:05<00:00, 694.96it/s]\n"
     ]
    },
    {
     "data": {
      "application/vnd.jupyter.widget-view+json": {
       "model_id": "da028c1f21e5401899cfa63a142b2476",
       "version_major": 2,
       "version_minor": 0
      },
      "text/plain": [
       "  0%|          | 0/39 [00:00<?, ?it/s]"
      ]
     },
     "metadata": {},
     "output_type": "display_data"
    },
    {
     "name": "stderr",
     "output_type": "stream",
     "text": [
      "100%|██████████| 1251/1251 [00:02<00:00, 495.44it/s]\n"
     ]
    },
    {
     "data": {
      "application/vnd.jupyter.widget-view+json": {
       "model_id": "dbd3d523bf444aefa558de24fcb680d8",
       "version_major": 2,
       "version_minor": 0
      },
      "text/plain": [
       "  0%|          | 0/12 [00:00<?, ?it/s]"
      ]
     },
     "metadata": {},
     "output_type": "display_data"
    }
   ],
   "source": [
    "features_train_emb = get_embeddings(features_downsampled)\n",
    "features_test_emb = get_embeddings(features_test)"
   ]
  },
  {
   "cell_type": "markdown",
   "metadata": {},
   "source": [
    "## Обучение"
   ]
  },
  {
   "cell_type": "markdown",
   "metadata": {},
   "source": [
    "Теперь обучим несколько моделей. Гиперпараметры подберем при помощи GridSearchCV. Также создадим кросс-валидатор для моделей (KFold). Перед этим обрежем выборки с целевыми признаками так, чтобы они соответствовали выборкам с остальными признаками (после токенизации)."
   ]
  },
  {
   "cell_type": "code",
   "execution_count": 15,
   "metadata": {},
   "outputs": [
    {
     "name": "stdout",
     "output_type": "stream",
     "text": [
      "(3900, 768)\n",
      "(3900,)\n",
      "(1200, 768)\n",
      "(1200,)\n"
     ]
    }
   ],
   "source": [
    "target_downsampled = target_downsampled.reset_index(drop=True)\n",
    "target_test = target_test.reset_index(drop=True)\n",
    "\n",
    "target_train_emb = target_downsampled.loc[features_train_emb.index]\n",
    "target_test_emb = target_test.loc[features_test_emb.index]\n",
    "\n",
    "print(features_train_emb.shape)\n",
    "print(target_train_emb.shape)\n",
    "print(features_test_emb.shape)\n",
    "print(target_test_emb.shape)"
   ]
  },
  {
   "cell_type": "markdown",
   "metadata": {},
   "source": [
    "### LogisticRegression"
   ]
  },
  {
   "cell_type": "code",
   "execution_count": 16,
   "metadata": {},
   "outputs": [
    {
     "name": "stdout",
     "output_type": "stream",
     "text": [
      "Модель типа LogisticRegression\n",
      "f1_score: 0.9777332877092235\n",
      "CPU times: total: 3min 6s\n",
      "Wall time: 3min 8s\n"
     ]
    },
    {
     "data": {
      "text/plain": [
       "{'C': 0.11473684210526315, 'tol': 0.0001}"
      ]
     },
     "execution_count": 16,
     "metadata": {},
     "output_type": "execute_result"
    }
   ],
   "source": [
    "%%time\n",
    "kfoldcv = KFold(n_splits=5)\n",
    "\n",
    "logistic_model = LogisticRegression(random_state=rand_state, class_weight='balanced', solver='liblinear', verbose=0)\n",
    "\n",
    "parameters = {'tol': [t for t in np.linspace(0.0001, 2, 20)],\n",
    "              'C': [c for c in np.linspace(0.01, 2, 20)]}\n",
    "\n",
    "gridsearch_logistic_model = GridSearchCV(logistic_model, parameters, cv=kfoldcv, scoring='f1', verbose=0)\n",
    "gridsearch_logistic_model.fit(features_train_emb, target_train_emb)\n",
    "\n",
    "logistic_model = gridsearch_logistic_model.best_estimator_\n",
    "logistic_f1 = gridsearch_logistic_model.best_score_\n",
    "\n",
    "print('Модель типа LogisticRegression')\n",
    "print('f1_score:', logistic_f1)\n",
    "gridsearch_logistic_model.best_params_"
   ]
  },
  {
   "cell_type": "markdown",
   "metadata": {},
   "source": [
    "### RandomForestClassifier"
   ]
  },
  {
   "cell_type": "code",
   "execution_count": 17,
   "metadata": {},
   "outputs": [
    {
     "name": "stdout",
     "output_type": "stream",
     "text": [
      "Модель типа RandomForestClassifier\n",
      "f1_score: 0.9768459371807523\n",
      "CPU times: total: 5min 56s\n",
      "Wall time: 6min\n"
     ]
    },
    {
     "data": {
      "text/plain": [
       "{'max_depth': 4, 'n_estimators': 40}"
      ]
     },
     "execution_count": 17,
     "metadata": {},
     "output_type": "execute_result"
    }
   ],
   "source": [
    "%%time\n",
    "\n",
    "forest_model = RandomForestClassifier(random_state=rand_state)\n",
    "\n",
    "parameters = {'n_estimators': range(40, 81, 10),\n",
    "              'max_depth': range(2, 11)}\n",
    "\n",
    "gridsearch_forest_model = GridSearchCV(forest_model, parameters, cv=kfoldcv, scoring='f1', verbose=0)\n",
    "gridsearch_forest_model.fit(features_train_emb, target_train_emb)\n",
    "\n",
    "forest_model = gridsearch_forest_model.best_estimator_\n",
    "forest_f1 = gridsearch_forest_model.best_score_\n",
    "\n",
    "print('Модель типа RandomForestClassifier')\n",
    "print('f1_score:', forest_f1)\n",
    "gridsearch_forest_model.best_params_"
   ]
  },
  {
   "cell_type": "markdown",
   "metadata": {},
   "source": [
    "### CatBoostClassifier"
   ]
  },
  {
   "cell_type": "code",
   "execution_count": 18,
   "metadata": {},
   "outputs": [
    {
     "name": "stdout",
     "output_type": "stream",
     "text": [
      "Модель типа CatBoostClassifier\n",
      "f1_score: 0.9782647734179652\n",
      "CPU times: total: 1min 38s\n",
      "Wall time: 28.6 s\n"
     ]
    },
    {
     "data": {
      "text/plain": [
       "{'depth': 7, 'iterations': 20, 'learning_rate': 0.05}"
      ]
     },
     "execution_count": 18,
     "metadata": {},
     "output_type": "execute_result"
    }
   ],
   "source": [
    "%%time\n",
    "\n",
    "cbc_model = CatBoostClassifier(random_seed=rand_state, silent=True)\n",
    "\n",
    "parameters = {'learning_rate': [0.05],                    #[0.05, 0.1]\n",
    "              'iterations': [20],                         #[20, 40, 60]\n",
    "              'depth': [7]}                               #range(3, 11)\n",
    "\n",
    "gridsearch_cbc_model = GridSearchCV(cbc_model, parameters, cv=kfoldcv, scoring='f1', verbose=0)\n",
    "gridsearch_cbc_model.fit(features_train_emb, target_train_emb)\n",
    "\n",
    "cbc_model = gridsearch_cbc_model.best_estimator_\n",
    "cbc_f1 = gridsearch_cbc_model.best_score_\n",
    "\n",
    "print('Модель типа CatBoostClassifier')\n",
    "print('f1_score:', cbc_f1)\n",
    "gridsearch_cbc_model.best_params_"
   ]
  },
  {
   "cell_type": "markdown",
   "metadata": {},
   "source": [
    "### LGBMClassifier"
   ]
  },
  {
   "cell_type": "code",
   "execution_count": 19,
   "metadata": {},
   "outputs": [
    {
     "name": "stdout",
     "output_type": "stream",
     "text": [
      "Модель типа LGBMClassifier\n",
      "f1_score: 0.9782932464090516\n",
      "CPU times: total: 36.6 s\n",
      "Wall time: 9.66 s\n"
     ]
    },
    {
     "data": {
      "text/plain": [
       "{'learning_rate': 0.05, 'n_estimators': 60, 'num_leaves': 31}"
      ]
     },
     "execution_count": 19,
     "metadata": {},
     "output_type": "execute_result"
    }
   ],
   "source": [
    "%%time\n",
    "\n",
    "lgbm_model = LGBMClassifier(boosting_type='gbdt', random_state=rand_state)\n",
    "\n",
    "parameters = {'learning_rate': [0.05],           #[0.05, 0.1, 0.15]\n",
    "              'n_estimators': [60],              #range(60, 111, 10)\n",
    "              'num_leaves': [31]}                #range(31, 92, 10)\n",
    "\n",
    "gridsearch_lgbm_model = GridSearchCV(lgbm_model, parameters, cv=kfoldcv, scoring='f1')\n",
    "gridsearch_lgbm_model.fit(features_train_emb, target_train_emb)\n",
    "\n",
    "lgbm_model = gridsearch_lgbm_model.best_estimator_\n",
    "lgbm_f1 = gridsearch_lgbm_model.best_score_\n",
    "\n",
    "print('Модель типа LGBMClassifier')\n",
    "print('f1_score:', lgbm_f1)\n",
    "gridsearch_lgbm_model.best_params_"
   ]
  },
  {
   "cell_type": "code",
   "execution_count": 20,
   "metadata": {},
   "outputs": [
    {
     "data": {
      "text/html": [
       "<div>\n",
       "<style scoped>\n",
       "    .dataframe tbody tr th:only-of-type {\n",
       "        vertical-align: middle;\n",
       "    }\n",
       "\n",
       "    .dataframe tbody tr th {\n",
       "        vertical-align: top;\n",
       "    }\n",
       "\n",
       "    .dataframe thead th {\n",
       "        text-align: right;\n",
       "    }\n",
       "</style>\n",
       "<table border=\"1\" class=\"dataframe\">\n",
       "  <thead>\n",
       "    <tr style=\"text-align: right;\">\n",
       "      <th></th>\n",
       "      <th>F1</th>\n",
       "    </tr>\n",
       "  </thead>\n",
       "  <tbody>\n",
       "    <tr>\n",
       "      <th>LogisticRegression</th>\n",
       "      <td>0.9777</td>\n",
       "    </tr>\n",
       "    <tr>\n",
       "      <th>RandomForestClassifier</th>\n",
       "      <td>0.9768</td>\n",
       "    </tr>\n",
       "    <tr>\n",
       "      <th>CatBoostClassifier</th>\n",
       "      <td>0.9783</td>\n",
       "    </tr>\n",
       "    <tr>\n",
       "      <th>LGBMClassifier</th>\n",
       "      <td>0.9783</td>\n",
       "    </tr>\n",
       "  </tbody>\n",
       "</table>\n",
       "</div>"
      ],
      "text/plain": [
       "                           F1\n",
       "LogisticRegression     0.9777\n",
       "RandomForestClassifier 0.9768\n",
       "CatBoostClassifier     0.9783\n",
       "LGBMClassifier         0.9783"
      ]
     },
     "execution_count": 20,
     "metadata": {},
     "output_type": "execute_result"
    }
   ],
   "source": [
    "models = pd.Series(['LogisticRegression', 'RandomForestClassifier', 'CatBoostClassifier', 'LGBMClassifier'])\n",
    "f1_scores = pd.DataFrame([logistic_f1, forest_f1, cbc_f1, lgbm_f1], index=models, columns=['F1'])\n",
    "f1_scores"
   ]
  },
  {
   "cell_type": "markdown",
   "metadata": {},
   "source": [
    "**Выводы**\n",
    "\n",
    "Наилучшие результаты показали модели CatBoostClassifier с гиперпараметрами depth=7, iterations=20, learning_rate=0.05 и LGBMClassifier с гиперпараметрами learning_rate=0.05, n_estimators=60, num_leaves=31. F1 в обоих случаях 0.978. LGBMClassifier при этом существенно быстрее обучается."
   ]
  },
  {
   "cell_type": "markdown",
   "metadata": {},
   "source": [
    "## Тестирование"
   ]
  },
  {
   "cell_type": "markdown",
   "metadata": {},
   "source": [
    "Протестируем полученные модели. Измерим качество моделей на тестовой выборке."
   ]
  },
  {
   "cell_type": "code",
   "execution_count": 21,
   "metadata": {},
   "outputs": [
    {
     "data": {
      "text/html": [
       "<div>\n",
       "<style scoped>\n",
       "    .dataframe tbody tr th:only-of-type {\n",
       "        vertical-align: middle;\n",
       "    }\n",
       "\n",
       "    .dataframe tbody tr th {\n",
       "        vertical-align: top;\n",
       "    }\n",
       "\n",
       "    .dataframe thead th {\n",
       "        text-align: right;\n",
       "    }\n",
       "</style>\n",
       "<table border=\"1\" class=\"dataframe\">\n",
       "  <thead>\n",
       "    <tr style=\"text-align: right;\">\n",
       "      <th></th>\n",
       "      <th>F1</th>\n",
       "      <th>Accuracy</th>\n",
       "      <th>Precision</th>\n",
       "      <th>Recall</th>\n",
       "    </tr>\n",
       "  </thead>\n",
       "  <tbody>\n",
       "    <tr>\n",
       "      <th>LogisticRegression</th>\n",
       "      <td>0.8516</td>\n",
       "      <td>0.9683</td>\n",
       "      <td>0.7569</td>\n",
       "      <td>0.9732</td>\n",
       "    </tr>\n",
       "    <tr>\n",
       "      <th>RandomForestClassifier</th>\n",
       "      <td>0.8365</td>\n",
       "      <td>0.9642</td>\n",
       "      <td>0.7285</td>\n",
       "      <td>0.9821</td>\n",
       "    </tr>\n",
       "    <tr>\n",
       "      <th>CatBoostClassifier</th>\n",
       "      <td>0.8397</td>\n",
       "      <td>0.9650</td>\n",
       "      <td>0.7333</td>\n",
       "      <td>0.9821</td>\n",
       "    </tr>\n",
       "    <tr>\n",
       "      <th>LGBMClassifier</th>\n",
       "      <td>0.8594</td>\n",
       "      <td>0.9700</td>\n",
       "      <td>0.7639</td>\n",
       "      <td>0.9821</td>\n",
       "    </tr>\n",
       "    <tr>\n",
       "      <th>Dummy - constant</th>\n",
       "      <td>0.1707</td>\n",
       "      <td>0.0933</td>\n",
       "      <td>0.0933</td>\n",
       "      <td>1.0000</td>\n",
       "    </tr>\n",
       "  </tbody>\n",
       "</table>\n",
       "</div>"
      ],
      "text/plain": [
       "                           F1  Accuracy  Precision  Recall\n",
       "LogisticRegression     0.8516    0.9683     0.7569  0.9732\n",
       "RandomForestClassifier 0.8365    0.9642     0.7285  0.9821\n",
       "CatBoostClassifier     0.8397    0.9650     0.7333  0.9821\n",
       "LGBMClassifier         0.8594    0.9700     0.7639  0.9821\n",
       "Dummy - constant       0.1707    0.0933     0.0933  1.0000"
      ]
     },
     "execution_count": 21,
     "metadata": {},
     "output_type": "execute_result"
    }
   ],
   "source": [
    "dummy = DummyClassifier(strategy='constant', random_state=rand_state, constant=1)\n",
    "dummy.fit(features_train_emb, target_train_emb)\n",
    "\n",
    "metrics = []\n",
    "\n",
    "for model in [logistic_model, forest_model, cbc_model, lgbm_model, dummy]:\n",
    "    string = []\n",
    "    predictions = model.predict(features_test_emb)\n",
    "    string.append(f1_score(target_test_emb, predictions))\n",
    "    string.append(accuracy_score(target_test_emb, predictions))\n",
    "    string.append(precision_score(target_test_emb, predictions))\n",
    "    string.append(recall_score(target_test_emb, predictions))\n",
    "    metrics.append(string)\n",
    "\n",
    "models[4] = 'Dummy - constant'\n",
    "metrics = pd.DataFrame(metrics, index=models, columns=['F1', 'Accuracy', 'Precision', 'Recall'])\n",
    "metrics"
   ]
  },
  {
   "cell_type": "markdown",
   "metadata": {},
   "source": [
    "Все модели показывают хорошее качество на тестовой выборке, больше 0.75. Но наилучшие результаты демонстирует модель типа LGBMClassifier (F1 = 0.859)."
   ]
  },
  {
   "cell_type": "markdown",
   "metadata": {},
   "source": [
    "## Общий вывод"
   ]
  },
  {
   "cell_type": "markdown",
   "metadata": {},
   "source": [
    "Для интернет-магазина необходимо было обучить модель классификации комментариев на позитивные и негативные, со значением метрики качества *F1* не меньше 0.75. В нашем распоряжении набор данных с разметкой о токсичности.\n",
    "\n",
    "На первом этапе данные были загружены и проанализированы. Столбец text изначально содержал 159292 уникальных строк с текстами, они были очищены от элементов, не имеющих лингвистического смысла, например \"\\n\".\n",
    "\n",
    "Столбец toxic имеет тип integer и значения 0 или 1. Был выявлен дисбаланс классов. С помощью функции downsample() уменьшили количество нулевых значений так, чтобы оно было соотносимо с единицами. Также, чтобы процесс выполнился быстрее, ещё сократили выборку до 5000 строк.\n",
    "\n",
    "Далее была произведена токенизация и созданы эмбеддинги с помощью DistilBertTokenizer и DistilBertModel. Датасет был разделен на выборку для обучения и тестовую выборку. Также был создан кросс-валидатор для моделей (KFold).\n",
    "\n",
    "Далее были обучены модели LogisticRegression, RandomForestClassifier, CatBoostClassifier, LGBMClassifier, гиперпараметры подобраны при помощи GridSearchCV. Наилучшие результаты показали модели CatBoostClassifier с гиперпараметрами depth=7, iterations=20, learning_rate=0.05 и LGBMClassifier с гиперпараметрами learning_rate=0.05, n_estimators=60, num_leaves=31. F1 в обоих случаях 0.978. LGBMClassifier при этом существенно быстрее обучается.\n",
    "\n",
    "Далее метрика F1 полученных моделей была измерена на тестовой выборке. Все модели показали хорошее качество на тестовой выборке, больше 0.75. Но наилучшие результаты продемонстировала модель типа LGBMClassifier (F1: 0.859, Accuracy: 0.97, Precision: 0.764, Recall: 0.982)."
   ]
  }
 ],
 "metadata": {
  "ExecuteTimeLog": [
   {
    "duration": 1540,
    "start_time": "2022-10-03T14:32:23.948Z"
   },
   {
    "duration": 1506,
    "start_time": "2022-10-03T14:33:23.254Z"
   },
   {
    "duration": 3569,
    "start_time": "2022-10-03T14:34:10.929Z"
   },
   {
    "duration": 190,
    "start_time": "2022-10-03T14:34:38.584Z"
   },
   {
    "duration": 71,
    "start_time": "2022-10-03T14:34:43.969Z"
   },
   {
    "duration": 22,
    "start_time": "2022-10-03T14:35:18.550Z"
   },
   {
    "duration": 898,
    "start_time": "2022-10-03T14:35:29.845Z"
   },
   {
    "duration": 62,
    "start_time": "2022-10-03T14:35:30.745Z"
   },
   {
    "duration": 56,
    "start_time": "2022-10-04T12:24:46.719Z"
   },
   {
    "duration": 2905,
    "start_time": "2022-10-04T12:24:51.486Z"
   },
   {
    "duration": 2422,
    "start_time": "2022-10-04T12:24:56.382Z"
   },
   {
    "duration": 294,
    "start_time": "2022-10-04T12:25:00.005Z"
   },
   {
    "duration": 444,
    "start_time": "2022-10-04T12:38:43.102Z"
   },
   {
    "duration": 411,
    "start_time": "2022-10-04T12:39:08.007Z"
   },
   {
    "duration": 390,
    "start_time": "2022-10-04T12:39:13.989Z"
   },
   {
    "duration": 128,
    "start_time": "2022-10-04T12:52:50.583Z"
   },
   {
    "duration": 136,
    "start_time": "2022-10-04T12:57:54.203Z"
   },
   {
    "duration": 123,
    "start_time": "2022-10-04T12:58:13.540Z"
   },
   {
    "duration": 115,
    "start_time": "2022-10-04T12:58:28.169Z"
   },
   {
    "duration": 211,
    "start_time": "2022-10-04T12:58:58.770Z"
   },
   {
    "duration": 142,
    "start_time": "2022-10-04T12:59:06.472Z"
   },
   {
    "duration": 3,
    "start_time": "2022-10-04T12:59:32.555Z"
   },
   {
    "duration": 8,
    "start_time": "2022-10-04T12:59:42.975Z"
   },
   {
    "duration": 3,
    "start_time": "2022-10-04T12:59:47.800Z"
   },
   {
    "duration": 3,
    "start_time": "2022-10-04T12:59:52.488Z"
   },
   {
    "duration": 3,
    "start_time": "2022-10-04T12:59:57.047Z"
   },
   {
    "duration": 411,
    "start_time": "2022-10-04T13:02:32.587Z"
   },
   {
    "duration": 2143,
    "start_time": "2022-10-04T13:06:14.278Z"
   },
   {
    "duration": 9,
    "start_time": "2022-10-04T13:06:27.712Z"
   },
   {
    "duration": 2754,
    "start_time": "2022-10-04T13:09:48.490Z"
   },
   {
    "duration": 1356,
    "start_time": "2022-10-04T13:09:52.810Z"
   },
   {
    "duration": 553,
    "start_time": "2022-10-04T13:09:55.024Z"
   },
   {
    "duration": 3,
    "start_time": "2022-10-04T13:09:59.249Z"
   },
   {
    "duration": 527,
    "start_time": "2022-10-04T13:10:01.291Z"
   },
   {
    "duration": 3,
    "start_time": "2022-10-04T13:10:09.066Z"
   },
   {
    "duration": 2114,
    "start_time": "2022-10-04T13:10:10.849Z"
   },
   {
    "duration": 1389,
    "start_time": "2022-10-04T13:10:22.466Z"
   },
   {
    "duration": 2429,
    "start_time": "2022-10-04T13:15:33.881Z"
   },
   {
    "duration": 10,
    "start_time": "2022-10-04T13:48:39.375Z"
   },
   {
    "duration": 2903,
    "start_time": "2022-10-04T13:48:58.774Z"
   },
   {
    "duration": 2547,
    "start_time": "2022-10-04T13:49:27.023Z"
   },
   {
    "duration": 2491,
    "start_time": "2022-10-04T13:49:30.725Z"
   },
   {
    "duration": 492,
    "start_time": "2022-10-04T13:49:34.059Z"
   },
   {
    "duration": 3,
    "start_time": "2022-10-04T13:49:37.660Z"
   },
   {
    "duration": 2127,
    "start_time": "2022-10-04T13:49:42.549Z"
   },
   {
    "duration": 128,
    "start_time": "2022-10-04T13:49:47.046Z"
   },
   {
    "duration": 4,
    "start_time": "2022-10-04T13:49:50.046Z"
   },
   {
    "duration": 165,
    "start_time": "2022-10-04T13:50:57.795Z"
   },
   {
    "duration": 40,
    "start_time": "2022-10-04T13:51:05.779Z"
   },
   {
    "duration": 4,
    "start_time": "2022-10-04T13:51:41.556Z"
   },
   {
    "duration": 6,
    "start_time": "2022-10-04T13:51:45.446Z"
   },
   {
    "duration": 39,
    "start_time": "2022-10-04T13:51:47.186Z"
   },
   {
    "duration": 4,
    "start_time": "2022-10-04T13:53:12.305Z"
   },
   {
    "duration": 48,
    "start_time": "2022-10-04T13:53:18.105Z"
   },
   {
    "duration": 12,
    "start_time": "2022-10-04T13:56:21.254Z"
   },
   {
    "duration": 5,
    "start_time": "2022-10-04T13:57:26.366Z"
   },
   {
    "duration": 5,
    "start_time": "2022-10-04T13:57:30.446Z"
   },
   {
    "duration": 45,
    "start_time": "2022-10-04T13:57:31.932Z"
   },
   {
    "duration": 5,
    "start_time": "2022-10-04T13:57:39.196Z"
   },
   {
    "duration": 55,
    "start_time": "2022-10-04T13:57:40.596Z"
   },
   {
    "duration": 7,
    "start_time": "2022-10-04T13:57:48.149Z"
   },
   {
    "duration": 39,
    "start_time": "2022-10-04T13:57:49.284Z"
   },
   {
    "duration": 5,
    "start_time": "2022-10-04T14:03:32.318Z"
   },
   {
    "duration": 38,
    "start_time": "2022-10-04T14:03:33.846Z"
   },
   {
    "duration": 5,
    "start_time": "2022-10-04T14:03:45.806Z"
   },
   {
    "duration": 37,
    "start_time": "2022-10-04T14:03:48.477Z"
   },
   {
    "duration": 4891,
    "start_time": "2022-10-05T11:16:33.875Z"
   },
   {
    "duration": 2628,
    "start_time": "2022-10-05T11:16:40.610Z"
   },
   {
    "duration": 468,
    "start_time": "2022-10-05T11:16:44.200Z"
   },
   {
    "duration": 3,
    "start_time": "2022-10-05T11:16:50.651Z"
   },
   {
    "duration": 2175,
    "start_time": "2022-10-05T11:16:52.458Z"
   },
   {
    "duration": 119,
    "start_time": "2022-10-05T11:16:58.485Z"
   },
   {
    "duration": 4,
    "start_time": "2022-10-05T11:17:04.667Z"
   },
   {
    "duration": 209,
    "start_time": "2022-10-05T11:17:06.701Z"
   },
   {
    "duration": 4,
    "start_time": "2022-10-05T11:17:29.771Z"
   },
   {
    "duration": 34,
    "start_time": "2022-10-05T11:17:31.240Z"
   },
   {
    "duration": 4,
    "start_time": "2022-10-05T11:17:40.081Z"
   },
   {
    "duration": 32,
    "start_time": "2022-10-05T11:17:43.866Z"
   },
   {
    "duration": 13,
    "start_time": "2022-10-05T11:18:42.910Z"
   },
   {
    "duration": 12,
    "start_time": "2022-10-05T11:18:56.834Z"
   },
   {
    "duration": 16,
    "start_time": "2022-10-05T11:19:36.577Z"
   },
   {
    "duration": 120,
    "start_time": "2022-10-05T11:19:55.591Z"
   },
   {
    "duration": 29,
    "start_time": "2022-10-05T11:20:14.665Z"
   },
   {
    "duration": 97,
    "start_time": "2022-10-05T11:20:16.532Z"
   },
   {
    "duration": 31,
    "start_time": "2022-10-05T11:20:23.169Z"
   },
   {
    "duration": 125,
    "start_time": "2022-10-05T11:20:24.512Z"
   },
   {
    "duration": 106,
    "start_time": "2022-10-05T11:21:41.853Z"
   },
   {
    "duration": 29,
    "start_time": "2022-10-05T11:33:04.707Z"
   },
   {
    "duration": 104,
    "start_time": "2022-10-05T11:33:48.663Z"
   },
   {
    "duration": 99,
    "start_time": "2022-10-05T11:33:56.315Z"
   },
   {
    "duration": 51202,
    "start_time": "2022-10-05T11:37:16.674Z"
   },
   {
    "duration": 835,
    "start_time": "2022-10-05T11:39:22.416Z"
   },
   {
    "duration": 600,
    "start_time": "2022-10-05T11:41:31.652Z"
   },
   {
    "duration": 16,
    "start_time": "2022-10-05T11:44:09.447Z"
   },
   {
    "duration": 47,
    "start_time": "2022-10-05T11:44:45.932Z"
   },
   {
    "duration": 19,
    "start_time": "2022-10-05T11:44:58.122Z"
   },
   {
    "duration": 17,
    "start_time": "2022-10-05T13:08:43.427Z"
   },
   {
    "duration": 3,
    "start_time": "2022-10-05T13:09:11.675Z"
   },
   {
    "duration": 46,
    "start_time": "2022-10-05T13:10:06.261Z"
   },
   {
    "duration": 73,
    "start_time": "2022-10-05T13:10:25.423Z"
   },
   {
    "duration": 3895,
    "start_time": "2022-10-05T13:10:43.501Z"
   },
   {
    "duration": 9488,
    "start_time": "2022-10-05T13:11:27.711Z"
   },
   {
    "duration": 50825,
    "start_time": "2022-10-05T13:12:29.361Z"
   },
   {
    "duration": 76,
    "start_time": "2022-10-05T13:14:22.236Z"
   },
   {
    "duration": 5,
    "start_time": "2022-10-05T13:15:32.513Z"
   },
   {
    "duration": 53,
    "start_time": "2022-10-05T13:17:52.762Z"
   },
   {
    "duration": 5836,
    "start_time": "2022-10-10T19:51:39.357Z"
   },
   {
    "duration": 3504,
    "start_time": "2022-10-10T19:51:45.196Z"
   },
   {
    "duration": 519,
    "start_time": "2022-10-10T19:51:48.702Z"
   },
   {
    "duration": 3,
    "start_time": "2022-10-10T19:51:49.223Z"
   },
   {
    "duration": 2391,
    "start_time": "2022-10-10T19:51:49.228Z"
   },
   {
    "duration": 154,
    "start_time": "2022-10-10T19:51:51.621Z"
   },
   {
    "duration": 16,
    "start_time": "2022-10-10T19:51:51.777Z"
   },
   {
    "duration": 48,
    "start_time": "2022-10-10T19:51:51.795Z"
   },
   {
    "duration": 13,
    "start_time": "2022-10-10T19:51:51.846Z"
   },
   {
    "duration": 6,
    "start_time": "2022-10-10T19:52:09.861Z"
   }
  ],
  "kernelspec": {
   "display_name": "Python 3 (ipykernel)",
   "language": "python",
   "name": "python3"
  },
  "language_info": {
   "codemirror_mode": {
    "name": "ipython",
    "version": 3
   },
   "file_extension": ".py",
   "mimetype": "text/x-python",
   "name": "python",
   "nbconvert_exporter": "python",
   "pygments_lexer": "ipython3",
   "version": "3.9.12"
  },
  "toc": {
   "base_numbering": 1,
   "nav_menu": {},
   "number_sections": true,
   "sideBar": true,
   "skip_h1_title": true,
   "title_cell": "Содержание",
   "title_sidebar": "Contents",
   "toc_cell": true,
   "toc_position": {
    "height": "calc(100% - 180px)",
    "left": "10px",
    "top": "150px",
    "width": "236px"
   },
   "toc_section_display": true,
   "toc_window_display": true
  }
 },
 "nbformat": 4,
 "nbformat_minor": 2
}
